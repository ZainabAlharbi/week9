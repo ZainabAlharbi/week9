{
  "nbformat": 4,
  "nbformat_minor": 0,
  "metadata": {
    "colab": {
      "name": "Untitled30.ipynb",
      "provenance": [],
      "authorship_tag": "ABX9TyPmkKKDnyVdHzhmoHNVUi+N"
    },
    "kernelspec": {
      "name": "python3",
      "display_name": "Python 3"
    },
    "language_info": {
      "name": "python"
    }
  },
  "cells": [
    {
      "cell_type": "code",
      "execution_count": 1,
      "metadata": {
        "id": "YzxkEMB42-zk"
      },
      "outputs": [],
      "source": [
        "import json\n",
        "import hashlib\n",
        "from hashlib import sha256\n",
        "import time"
      ]
    },
    {
      "cell_type": "code",
      "source": [
        "class Block:\n",
        "    def __init__(self, index, transactions, timestamp, previous_hash, nonce=0):\n",
        "        self.index = index\n",
        "        self.transactions = transactions\n",
        "        self.timestamp = timestamp\n",
        "        self.previous_hash = previous_hash\n",
        "        self.nonce = nonce\n",
        "\n",
        "    def compute_hash(self):\n",
        "        block_string = json.dumps(self.__dict__, sort_keys=True)\n",
        "        return sha256(block_string.encode()).hexdigest()"
      ],
      "metadata": {
        "id": "tHD1kyFs3ZZi"
      },
      "execution_count": 2,
      "outputs": []
    },
    {
      "cell_type": "code",
      "source": [
        "class Blockchain: \n",
        "    def __init__(self):\n",
        "        self.unconfirmed_transactions = []\n",
        "        self.chain = []\n",
        "        self.difficulty = 2\n",
        "        self.create_genesis_block()\n",
        " \n",
        "    def create_genesis_block(self):\n",
        "        genesis_block = Block(0, [], time.time(), \"0\")\n",
        "        genesis_block.hash = genesis_block.compute_hash()\n",
        "        self.chain.append(genesis_block)\n",
        "    @property\n",
        "    def last_block(self):\n",
        "        return self.chain[-1]\n",
        "\n",
        "    difficulty = 2\n",
        "    def proof_of_work(self, block):\n",
        "        block.nonce = 1\n",
        "        computed_hash = block.compute_hash()\n",
        "        while not computed_hash.startswith('0' * Blockchain.difficulty):\n",
        "            block.nonce += 1\n",
        "            computed_hash = block.compute_hash()\n",
        "        return computed_hash    \n",
        "\n",
        "    def add_block(self, block, proof):\n",
        "        previous_hash = self.last_block.hash\n",
        "        if previous_hash != block.previous_hash:\n",
        "            return False\n",
        "        if not self.is_valid_proof(block, proof):\n",
        "            return False\n",
        "        block.hash = proof\n",
        "        self.chain.append(block)\n",
        "        return True\n",
        " \n",
        "    def is_valid_proof(self, block, block_hash):\n",
        "        return (block_hash.startswith('0' * Blockchain.difficulty) and\n",
        "                block_hash == block.compute_hash())\n",
        "\n",
        "    def add_new_transaction(self, transaction):\n",
        "            self.unconfirmed_transactions.append(transaction)\n",
        " \n",
        "    def mine(self):\n",
        "        if not self.unconfirmed_transactions:\n",
        "            return False\n",
        " \n",
        "        last_block = self.last_block\n",
        " \n",
        "        new_block = Block(index=last_block.index + 1,\n",
        "                          transactions=self.unconfirmed_transactions,\n",
        "                          timestamp=time.time(),\n",
        "                          previous_hash=last_block.hash)\n",
        " \n",
        "        proof = self.proof_of_work(new_block)\n",
        "        self.add_block(new_block, proof)\n",
        "        self.unconfirmed_transactions = []\n",
        "        return new_block.index"
      ],
      "metadata": {
        "id": "GvKN2qmd3mO1"
      },
      "execution_count": 3,
      "outputs": []
    },
    {
      "cell_type": "code",
      "source": [
        "tx_1 = {\n",
        "   \"addr_from\": \"3J98t1WpEZ73CNmQviecrnyiWrnqRhWNLy\",\n",
        "   \"addr_to\": \"1BvBMSEYstWetqTFn5Au4m4GFg7xJaNVN2\",   \n",
        "   \"amount\": 99.00\n",
        "}"
      ],
      "metadata": {
        "id": "axBS5JBT7UQu"
      },
      "execution_count": 4,
      "outputs": []
    }
  ]
}