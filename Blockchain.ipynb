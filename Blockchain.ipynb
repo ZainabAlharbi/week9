{
  "nbformat": 4,
  "nbformat_minor": 0,
  "metadata": {
    "colab": {
      "name": "Untitled30.ipynb",
      "provenance": [],
      "authorship_tag": "ABX9TyM+IU5jJlRzW83cSvUg8HoT"
    },
    "kernelspec": {
      "name": "python3",
      "display_name": "Python 3"
    },
    "language_info": {
      "name": "python"
    }
  },
  "cells": [
    {
      "cell_type": "code",
      "execution_count": 1,
      "metadata": {
        "id": "YzxkEMB42-zk"
      },
      "outputs": [],
      "source": [
        "import json\n",
        "import hashlib\n",
        "from hashlib import sha256\n",
        "import time"
      ]
    },
    {
      "cell_type": "code",
      "source": [
        "class Block:\n",
        "    def __init__(self, index, transactions, timestamp, previous_hash, nonce=0):\n",
        "        self.index = index\n",
        "        self.transactions = transactions\n",
        "        self.timestamp = timestamp\n",
        "        self.previous_hash = previous_hash\n",
        "        self.nonce = nonce\n",
        "\n",
        "    def compute_hash(self):\n",
        "        block_string = json.dumps(self.__dict__, sort_keys=True)\n",
        "        return sha256(block_string.encode()).hexdigest()"
      ],
      "metadata": {
        "id": "tHD1kyFs3ZZi"
      },
      "execution_count": 2,
      "outputs": []
    },
    {
      "cell_type": "code",
      "source": [
        "class Blockchain: \n",
        "    def __init__(self):\n",
        "        self.unconfirmed_transactions = []\n",
        "        self.chain = []\n",
        "        self.difficulty = 4\n",
        "        self.create_genesis_block()\n",
        " \n",
        "    def create_genesis_block(self):\n",
        "        genesis_block = Block(0, [], time.time(), \"0\")\n",
        "        genesis_block.hash = genesis_block.compute_hash()\n",
        "        self.chain.append(genesis_block)\n",
        "    @property\n",
        "    def last_block(self):\n",
        "        return self.chain[-1]\n",
        "\n",
        "    def proof_of_work(self, block):\n",
        "        block.nonce = 1\n",
        "        computed_hash = block.compute_hash()\n",
        "        while not computed_hash.startswith('0' * self.difficulty):\n",
        "            block.nonce += 1\n",
        "            computed_hash = block.compute_hash()\n",
        "        return computed_hash    \n",
        "\n",
        "    def add_block(self, block, proof):\n",
        "        previous_hash = self.last_block.hash\n",
        "        if previous_hash != block.previous_hash:\n",
        "            return False\n",
        "        if not self.is_valid_proof(block, proof):\n",
        "            return False\n",
        "        block.hash = proof\n",
        "        self.chain.append(block)\n",
        "        return True\n",
        " \n",
        "    def is_valid_proof(self, block, block_hash):\n",
        "        return (block_hash.startswith('0' * self.difficulty) and\n",
        "                block_hash == block.compute_hash())\n",
        "\n",
        "    def add_new_transaction(self, transaction):\n",
        "            self.unconfirmed_transactions.append(transaction)\n",
        " \n",
        "    def mine(self):\n",
        "        if not self.unconfirmed_transactions:\n",
        "            return False\n",
        " \n",
        "        last_block = self.last_block\n",
        " \n",
        "        new_block = Block(index=last_block.index + 1,\n",
        "                          transactions=self.unconfirmed_transactions,\n",
        "                          timestamp=time.time(),\n",
        "                          previous_hash=last_block.hash)\n",
        " \n",
        "        proof = self.proof_of_work(new_block)\n",
        "        self.add_block(new_block, proof)\n",
        "        self.unconfirmed_transactions = []\n",
        "        return new_block.index"
      ],
      "metadata": {
        "id": "GvKN2qmd3mO1"
      },
      "execution_count": 3,
      "outputs": []
    },
    {
      "cell_type": "code",
      "source": [
        "tx_1 = {\n",
        "   \"addr_from\": \"3J98t1WpEZ73CNmQviecrnyiWrnqRhWNLy\",\n",
        "   \"addr_to\": \"1BvBMSEYstWetqTFn5Au4m4GFg7xJaNVN2\",   \n",
        "   \"amount\": 99.00\n",
        "}"
      ],
      "metadata": {
        "id": "axBS5JBT7UQu"
      },
      "execution_count": 4,
      "outputs": []
    },
    {
      "cell_type": "code",
      "source": [
        "tx_2 = {\n",
        "   \"addr_from\": \"1J98t1WpEZ73CNmQviecrnyiWrnqRhWNLy\",\n",
        "   \"addr_to\": \"2BvBMSEYstWetqTFn5Au4m4GFg7xJaNVN2\",   \n",
        "   \"amount\": 199.00\n",
        "}"
      ],
      "metadata": {
        "id": "339kNMUTSqeY"
      },
      "execution_count": 5,
      "outputs": []
    },
    {
      "cell_type": "code",
      "source": [
        "Titans = Blockchain()\n",
        "while len(Titans.chain)<10:\n",
        "  Titans.add_new_transaction([tx_1])\n",
        "  Titans.mine()\n",
        "  print(Titans.chain[-1].hash)\n",
        "  print(str(Titans.chain[-1].nonce))\n"
      ],
      "metadata": {
        "colab": {
          "base_uri": "https://localhost:8080/"
        },
        "id": "NO-_KrOPMiXl",
        "outputId": "d94684f9-fbb7-4b16-be8e-75b97acbb617"
      },
      "execution_count": 6,
      "outputs": [
        {
          "output_type": "stream",
          "name": "stdout",
          "text": [
            "000068c8ae993b4340e577b4f3b44bef3d12b4f5f73372621e57232980cca317\n",
            "2603\n",
            "000011a0f93544d9e6fe10b90730d96851c66938e38a032f03044f81168478e0\n",
            "43062\n",
            "0000b7337cfe7623aeb033bc970d5ce440a4a7947f248ed9765d4262b81936bf\n",
            "278417\n",
            "00008e0c562b0fe3a2341cb24bfe4ff2c65756186ebb80e8b26a6ffa5b84543f\n",
            "104210\n",
            "000085e427bb799cd13aaae3df8ab98115e2d6d0833944d2f3ad6c2f84f773a1\n",
            "6517\n",
            "0000103da3762c77b88a0c128636b56142914f308d162d125a7dd5fa1c9b41a4\n",
            "74342\n",
            "0000f65dae5fcbad4108449cb526384fbdb977280348fe76860d87639d013d8f\n",
            "151562\n",
            "0000c892b44bb6989aa45232439aacfd97fca7693220651a9e9e099b609a1c7c\n",
            "35071\n",
            "00007d7fa9a92364e79e70c3265b58296dfe5f96e9cfeb7d1094edc17e8e61a7\n",
            "106353\n"
          ]
        }
      ]
    },
    {
      "cell_type": "code",
      "source": [
        ""
      ],
      "metadata": {
        "id": "BkGkH3WtNd3j"
      },
      "execution_count": 6,
      "outputs": []
    }
  ]
}